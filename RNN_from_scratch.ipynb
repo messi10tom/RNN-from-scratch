{
  "nbformat": 4,
  "nbformat_minor": 0,
  "metadata": {
    "colab": {
      "provenance": [],
      "authorship_tag": "ABX9TyNhOzDL3H1q66EDvvthP++i",
      "include_colab_link": true
    },
    "kernelspec": {
      "name": "python3",
      "display_name": "Python 3"
    },
    "language_info": {
      "name": "python"
    }
  },
  "cells": [
    {
      "cell_type": "markdown",
      "metadata": {
        "id": "view-in-github",
        "colab_type": "text"
      },
      "source": [
        "<a href=\"https://colab.research.google.com/github/messi10tom/RNN-from-scratch/blob/main/RNN_from_scratch.ipynb\" target=\"_parent\"><img src=\"https://colab.research.google.com/assets/colab-badge.svg\" alt=\"Open In Colab\"/></a>"
      ]
    },
    {
      "cell_type": "code",
      "source": [
        "data = \"\"\"During the advent of modern scientific method in the last several centuries, nature became the passive reality, organized and moved by divine laws.[3][4] With the Industrial Revolution, nature increasingly became seen as the part of reality deprived from intentional intervention: it was hence considered as sacred by some traditions (Rousseau, American transcendentalism) or a mere decorum for divine providence or human history (Hegel, Marx). However, a vitalist vision of nature, closer to the pre-Socratic one, got reborn at the same time, especially after Charles Darwin. Within the various uses of the word today, \"nature\" often refers to geology and wildlife. Nature can refer to the general realm of living plants and animals, and in some cases to the processes associated with inanimate objects—the way that particular types of things exist and change of their own accord, such as the weather and geology of the Earth. It is often taken to mean the \"natural environment\" or wilderness—wild animals, rocks, forest, and in general those things that have not been substantially altered by human intervention, or which persist despite human intervention. For example, manufactured objects and human interaction generally are not considered part of nature, unless qualified as, for example, \"human nature\" or \"the whole of nature\". This more traditional concept of natural things that can still be found today implies a distinction between the natural and the artificial, with the artificial being understood as that which has been brought into being by a human consciousness or a human mind. Depending on the particular context, the term \"natural\" might also be distinguished from the unnatural or the supernatural.\"\"\""
      ],
      "metadata": {
        "id": "s9kjcbU0TzJN"
      },
      "execution_count": 1,
      "outputs": []
    },
    {
      "cell_type": "code",
      "source": [
        "data = ''.join([i for i in data.lower() if i.isalpha() or i in [' ', '.']])"
      ],
      "metadata": {
        "id": "fFH0F5JQRbWk"
      },
      "execution_count": 2,
      "outputs": []
    },
    {
      "cell_type": "code",
      "source": [
        "import numpy as np\n",
        "\n",
        "vocab = list(set(data))\n",
        "X_train = [vocab.index(i) for i in data]\n",
        "Xtr = np.zeros((len(X_train), len(vocab)))\n",
        "Xtr[np.arange(len(X_train)), X_train] = 1"
      ],
      "metadata": {
        "id": "f7qKruBTSWCe"
      },
      "execution_count": 3,
      "outputs": []
    },
    {
      "cell_type": "code",
      "source": [
        "Wc = np.random.randn(100, 100 + len(vocab))\n",
        "Bc = np.random.randn(100, 1)\n",
        "C_tm1 = np.zeros((100, 1))\n",
        "V = np.random.randn(100, 100)\n",
        "\n",
        "W = np.random.randn(len(vocab), 100)\n",
        "B = np.random.randn(len(vocab), 1)\n",
        "\n",
        "for t in range(1, len(Xtr[:4])):\n",
        "  Z_t = np.concatenate([Xtr[t-1].reshape((-1, 1)), C_tm1], axis=0)\n",
        "  C_bar = Wc @ Z_t + Bc\n",
        "  C = np.tanh(C_bar)\n",
        "  H = np.tanh(V @ C)\n",
        "  C_tm1 = C\n",
        "\n",
        "  Y_bar = W @ H + B\n",
        "  Y_hat = np.exp(Y_bar) / np.sum(np.exp(Y_bar))\n",
        "  Y = Xtr[t].reshape((-1, 1))\n",
        "  L = -np.sum((Y * np.log(Y_hat)))\n",
        "\n",
        "  dy_hat = -(Y/Y_hat)\n",
        "  dy_hat_b_dY_bar = []\n",
        "  for i in range(len(Y_hat)):\n",
        "    dy_hat_b_dY_bar.append(\n",
        "\n",
        "        [-1 * Y_hat[i]*Y_hat[j] if i != j else (Y_hat[i]*(1 - Y_hat[i])) for j in range(len(Y_bar))]\n",
        "         #  -si * sj ; i != j                        si(1 - si) ; i=j\n",
        "        )\n",
        "  dy_hat_b_dY_bar = np.array(dy_hat_b_dY_bar).reshape((len(Y_bar), len(Y_bar)))\n",
        "  dy_bar =  dy_hat_b_dY_bar @ dy_hat\n",
        "  dw = dy_bar @ H.T\n",
        "  db = dy_bar\n",
        ""
      ],
      "metadata": {
        "id": "rSEqu5_-vm12"
      },
      "execution_count": 15,
      "outputs": []
    },
    {
      "cell_type": "code",
      "source": [
        "H.shape"
      ],
      "metadata": {
        "colab": {
          "base_uri": "https://localhost:8080/"
        },
        "id": "auNmvQxo3QPk",
        "outputId": "6a044587-9301-45c6-e1ae-8a707a700e2b"
      },
      "execution_count": 18,
      "outputs": [
        {
          "output_type": "execute_result",
          "data": {
            "text/plain": [
              "(100, 1)"
            ]
          },
          "metadata": {},
          "execution_count": 18
        }
      ]
    },
    {
      "cell_type": "code",
      "source": [
        "import tensorflow as tf\n",
        "\n",
        "a = tf.Variable(tf.random.normal((100, 100)), trainable=True)\n",
        "b = tf.Variable(tf.random.normal((100, 1)), trainable=True)\n",
        "with tf.GradientTape() as tape:\n",
        "  c = tf.matmul(a, b)\n",
        "dc_da = tape.gradient(c, a)\n"
      ],
      "metadata": {
        "id": "dUWuQEQQ23rY"
      },
      "execution_count": null,
      "outputs": []
    }
  ]
}